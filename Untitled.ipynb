{
 "cells": [
  {
   "cell_type": "code",
   "execution_count": 1,
   "id": "454136ac",
   "metadata": {},
   "outputs": [],
   "source": [
    "from selenium import webdriver\n",
    "from selenium.webdriver.chrome.service import Service\n"
   ]
  },
  {
   "cell_type": "code",
   "execution_count": 2,
   "id": "8f5df4cb",
   "metadata": {},
   "outputs": [],
   "source": [
    "s = Service('webdriver//chromedriver.exe')\n",
    "driver = webdriver.Chrome(service=s)"
   ]
  },
  {
   "cell_type": "code",
   "execution_count": 3,
   "id": "b363c632",
   "metadata": {},
   "outputs": [],
   "source": [
    "driver.get('http://192.168.1.10:8181')"
   ]
  },
  {
   "cell_type": "code",
   "execution_count": 4,
   "id": "5b5252ea",
   "metadata": {},
   "outputs": [],
   "source": [
    "driver.find_element('xpath', '//*[@id=\"userName\"]').send_keys('admin')"
   ]
  },
  {
   "cell_type": "code",
   "execution_count": 5,
   "id": "5e63f0bc",
   "metadata": {},
   "outputs": [],
   "source": [
    "driver.find_element('xpath', '//*[@id=\"pcPassword\"]').send_keys('villaros@')"
   ]
  },
  {
   "cell_type": "code",
   "execution_count": 6,
   "id": "910e77e5",
   "metadata": {},
   "outputs": [],
   "source": [
    "driver.find_element('xpath', '//*[@id=\"loginBtn\"]').click()"
   ]
  },
  {
   "cell_type": "code",
   "execution_count": 7,
   "id": "530e9595",
   "metadata": {},
   "outputs": [
    {
     "name": "stdout",
     "output_type": "stream",
     "text": [
      "TL-WR940N\n"
     ]
    }
   ],
   "source": [
    "j = driver.execute_script(\"return document.title\")\n",
    "print(j)"
   ]
  },
  {
   "cell_type": "code",
   "execution_count": 8,
   "id": "88344029",
   "metadata": {},
   "outputs": [
    {
     "name": "stdout",
     "output_type": "stream",
     "text": [
      "http://192.168.1.10:8181/FDLHOSJAGJWDUSDB/userRpm/Index.htm\n",
      "['http:', '', '192.168.1.10:8181', 'FDLHOSJAGJWDUSDB', 'userRpm', 'Index.htm']\n",
      "FDLHOSJAGJWDUSDB\n"
     ]
    }
   ],
   "source": [
    "j = driver.execute_script(\"return window.top.location.href.toString()\")\n",
    "print(j)\n",
    "xsplit = j.split(\"/\")\n",
    "print(xsplit)\n",
    "xtpath = xsplit[3]\n",
    "print(xtpath)"
   ]
  },
  {
   "cell_type": "code",
   "execution_count": 9,
   "id": "452057e3",
   "metadata": {},
   "outputs": [],
   "source": [
    "driver.execute_script('document.getElementById(\"mainFrame\").src = \"http://192.168.1.10:8181/'+xtpath+'/userRpm/SysRebootRpm.htm\";')"
   ]
  },
  {
   "cell_type": "code",
   "execution_count": 10,
   "id": "d8b6ff81",
   "metadata": {},
   "outputs": [
    {
     "ename": "NoSuchElementException",
     "evalue": "Message: no such element: Unable to locate element: {\"method\":\"xpath\",\"selector\":\"//*[@id=\"reboot\"]\"}\n  (Session info: chrome=107.0.5304.107)\nStacktrace:\nBacktrace:\n\tOrdinal0 [0x0049ACD3+2075859]\n\tOrdinal0 [0x0042EE61+1633889]\n\tOrdinal0 [0x0032B7BD+571325]\n\tOrdinal0 [0x0035AC2F+764975]\n\tOrdinal0 [0x0035AE1B+765467]\n\tOrdinal0 [0x0038D0F2+970994]\n\tOrdinal0 [0x00377364+881508]\n\tOrdinal0 [0x0038B56A+963946]\n\tOrdinal0 [0x00377136+880950]\n\tOrdinal0 [0x0034FEFD+720637]\n\tOrdinal0 [0x00350F3F+724799]\n\tGetHandleVerifier [0x0074EED2+2769538]\n\tGetHandleVerifier [0x00740D95+2711877]\n\tGetHandleVerifier [0x0052A03A+521194]\n\tGetHandleVerifier [0x00528DA0+516432]\n\tOrdinal0 [0x0043682C+1665068]\n\tOrdinal0 [0x0043B128+1683752]\n\tOrdinal0 [0x0043B215+1683989]\n\tOrdinal0 [0x00446484+1729668]\n\tBaseThreadInitThunk [0x75B8FEF9+25]\n\tRtlGetAppContainerNamedObjectPath [0x77617BBE+286]\n\tRtlGetAppContainerNamedObjectPath [0x77617B8E+238]\n",
     "output_type": "error",
     "traceback": [
      "\u001b[1;31m---------------------------------------------------------------------------\u001b[0m",
      "\u001b[1;31mNoSuchElementException\u001b[0m                    Traceback (most recent call last)",
      "Cell \u001b[1;32mIn [10], line 1\u001b[0m\n\u001b[1;32m----> 1\u001b[0m \u001b[43mdriver\u001b[49m\u001b[38;5;241;43m.\u001b[39;49m\u001b[43mfind_element\u001b[49m\u001b[43m(\u001b[49m\u001b[38;5;124;43m'\u001b[39;49m\u001b[38;5;124;43mxpath\u001b[39;49m\u001b[38;5;124;43m'\u001b[39;49m\u001b[43m,\u001b[49m\u001b[43m \u001b[49m\u001b[38;5;124;43m'\u001b[39;49m\u001b[38;5;124;43m//*[@id=\u001b[39;49m\u001b[38;5;124;43m\"\u001b[39;49m\u001b[38;5;124;43mreboot\u001b[39;49m\u001b[38;5;124;43m\"\u001b[39;49m\u001b[38;5;124;43m]\u001b[39;49m\u001b[38;5;124;43m'\u001b[39;49m\u001b[43m)\u001b[49m\u001b[38;5;241m.\u001b[39mclick()\n",
      "File \u001b[1;32m~\\AppData\\Roaming\\Python\\Python310\\site-packages\\selenium\\webdriver\\remote\\webdriver.py:861\u001b[0m, in \u001b[0;36mWebDriver.find_element\u001b[1;34m(self, by, value)\u001b[0m\n\u001b[0;32m    858\u001b[0m     by \u001b[38;5;241m=\u001b[39m By\u001b[38;5;241m.\u001b[39mCSS_SELECTOR\n\u001b[0;32m    859\u001b[0m     value \u001b[38;5;241m=\u001b[39m \u001b[38;5;124m'\u001b[39m\u001b[38;5;124m[name=\u001b[39m\u001b[38;5;124m\"\u001b[39m\u001b[38;5;132;01m%s\u001b[39;00m\u001b[38;5;124m\"\u001b[39m\u001b[38;5;124m]\u001b[39m\u001b[38;5;124m'\u001b[39m \u001b[38;5;241m%\u001b[39m value\n\u001b[1;32m--> 861\u001b[0m \u001b[38;5;28;01mreturn\u001b[39;00m \u001b[38;5;28;43mself\u001b[39;49m\u001b[38;5;241;43m.\u001b[39;49m\u001b[43mexecute\u001b[49m\u001b[43m(\u001b[49m\u001b[43mCommand\u001b[49m\u001b[38;5;241;43m.\u001b[39;49m\u001b[43mFIND_ELEMENT\u001b[49m\u001b[43m,\u001b[49m\u001b[43m \u001b[49m\u001b[43m{\u001b[49m\u001b[38;5;124;43m\"\u001b[39;49m\u001b[38;5;124;43musing\u001b[39;49m\u001b[38;5;124;43m\"\u001b[39;49m\u001b[43m:\u001b[49m\u001b[43m \u001b[49m\u001b[43mby\u001b[49m\u001b[43m,\u001b[49m\u001b[43m \u001b[49m\u001b[38;5;124;43m\"\u001b[39;49m\u001b[38;5;124;43mvalue\u001b[39;49m\u001b[38;5;124;43m\"\u001b[39;49m\u001b[43m:\u001b[49m\u001b[43m \u001b[49m\u001b[43mvalue\u001b[49m\u001b[43m}\u001b[49m\u001b[43m)\u001b[49m[\u001b[38;5;124m\"\u001b[39m\u001b[38;5;124mvalue\u001b[39m\u001b[38;5;124m\"\u001b[39m]\n",
      "File \u001b[1;32m~\\AppData\\Roaming\\Python\\Python310\\site-packages\\selenium\\webdriver\\remote\\webdriver.py:444\u001b[0m, in \u001b[0;36mWebDriver.execute\u001b[1;34m(self, driver_command, params)\u001b[0m\n\u001b[0;32m    442\u001b[0m response \u001b[38;5;241m=\u001b[39m \u001b[38;5;28mself\u001b[39m\u001b[38;5;241m.\u001b[39mcommand_executor\u001b[38;5;241m.\u001b[39mexecute(driver_command, params)\n\u001b[0;32m    443\u001b[0m \u001b[38;5;28;01mif\u001b[39;00m response:\n\u001b[1;32m--> 444\u001b[0m     \u001b[38;5;28;43mself\u001b[39;49m\u001b[38;5;241;43m.\u001b[39;49m\u001b[43merror_handler\u001b[49m\u001b[38;5;241;43m.\u001b[39;49m\u001b[43mcheck_response\u001b[49m\u001b[43m(\u001b[49m\u001b[43mresponse\u001b[49m\u001b[43m)\u001b[49m\n\u001b[0;32m    445\u001b[0m     response[\u001b[38;5;124m\"\u001b[39m\u001b[38;5;124mvalue\u001b[39m\u001b[38;5;124m\"\u001b[39m] \u001b[38;5;241m=\u001b[39m \u001b[38;5;28mself\u001b[39m\u001b[38;5;241m.\u001b[39m_unwrap_value(response\u001b[38;5;241m.\u001b[39mget(\u001b[38;5;124m\"\u001b[39m\u001b[38;5;124mvalue\u001b[39m\u001b[38;5;124m\"\u001b[39m, \u001b[38;5;28;01mNone\u001b[39;00m))\n\u001b[0;32m    446\u001b[0m     \u001b[38;5;28;01mreturn\u001b[39;00m response\n",
      "File \u001b[1;32m~\\AppData\\Roaming\\Python\\Python310\\site-packages\\selenium\\webdriver\\remote\\errorhandler.py:249\u001b[0m, in \u001b[0;36mErrorHandler.check_response\u001b[1;34m(self, response)\u001b[0m\n\u001b[0;32m    247\u001b[0m         alert_text \u001b[38;5;241m=\u001b[39m value[\u001b[38;5;124m\"\u001b[39m\u001b[38;5;124malert\u001b[39m\u001b[38;5;124m\"\u001b[39m]\u001b[38;5;241m.\u001b[39mget(\u001b[38;5;124m\"\u001b[39m\u001b[38;5;124mtext\u001b[39m\u001b[38;5;124m\"\u001b[39m)\n\u001b[0;32m    248\u001b[0m     \u001b[38;5;28;01mraise\u001b[39;00m exception_class(message, screen, stacktrace, alert_text)  \u001b[38;5;66;03m# type: ignore[call-arg]  # mypy is not smart enough here\u001b[39;00m\n\u001b[1;32m--> 249\u001b[0m \u001b[38;5;28;01mraise\u001b[39;00m exception_class(message, screen, stacktrace)\n",
      "\u001b[1;31mNoSuchElementException\u001b[0m: Message: no such element: Unable to locate element: {\"method\":\"xpath\",\"selector\":\"//*[@id=\"reboot\"]\"}\n  (Session info: chrome=107.0.5304.107)\nStacktrace:\nBacktrace:\n\tOrdinal0 [0x0049ACD3+2075859]\n\tOrdinal0 [0x0042EE61+1633889]\n\tOrdinal0 [0x0032B7BD+571325]\n\tOrdinal0 [0x0035AC2F+764975]\n\tOrdinal0 [0x0035AE1B+765467]\n\tOrdinal0 [0x0038D0F2+970994]\n\tOrdinal0 [0x00377364+881508]\n\tOrdinal0 [0x0038B56A+963946]\n\tOrdinal0 [0x00377136+880950]\n\tOrdinal0 [0x0034FEFD+720637]\n\tOrdinal0 [0x00350F3F+724799]\n\tGetHandleVerifier [0x0074EED2+2769538]\n\tGetHandleVerifier [0x00740D95+2711877]\n\tGetHandleVerifier [0x0052A03A+521194]\n\tGetHandleVerifier [0x00528DA0+516432]\n\tOrdinal0 [0x0043682C+1665068]\n\tOrdinal0 [0x0043B128+1683752]\n\tOrdinal0 [0x0043B215+1683989]\n\tOrdinal0 [0x00446484+1729668]\n\tBaseThreadInitThunk [0x75B8FEF9+25]\n\tRtlGetAppContainerNamedObjectPath [0x77617BBE+286]\n\tRtlGetAppContainerNamedObjectPath [0x77617B8E+238]\n"
     ]
    }
   ],
   "source": [
    "driver.find_element('xpath', '//*[@id=\"reboot\"]').click()"
   ]
  },
  {
   "cell_type": "code",
   "execution_count": null,
   "id": "e4e7374b",
   "metadata": {},
   "outputs": [],
   "source": [
    "#driver.get('http://192.168.1.10:8181/'+xtpath+'/userRpm/SysRebootRpm.htm')"
   ]
  }
 ],
 "metadata": {
  "kernelspec": {
   "display_name": "Python 3 (ipykernel)",
   "language": "python",
   "name": "python3"
  },
  "language_info": {
   "codemirror_mode": {
    "name": "ipython",
    "version": 3
   },
   "file_extension": ".py",
   "mimetype": "text/x-python",
   "name": "python",
   "nbconvert_exporter": "python",
   "pygments_lexer": "ipython3",
   "version": "3.10.4"
  }
 },
 "nbformat": 4,
 "nbformat_minor": 5
}
