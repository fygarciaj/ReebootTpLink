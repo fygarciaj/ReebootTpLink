{
 "cells": [
  {
   "cell_type": "code",
   "execution_count": 1,
   "id": "07b709da",
   "metadata": {},
   "outputs": [],
   "source": [
    "from selenium import webdriver\n",
    "from selenium.webdriver.chrome.service import Service\n"
   ]
  },
  {
   "cell_type": "code",
   "execution_count": 2,
   "id": "09150b6d",
   "metadata": {},
   "outputs": [],
   "source": [
    "s = Service('webdriver//chromedriver.exe')\n",
    "driver = webdriver.Chrome(service=s)"
   ]
  },
  {
   "cell_type": "code",
   "execution_count": 3,
   "id": "6c3dbece",
   "metadata": {},
   "outputs": [],
   "source": [
    "driver.get('http://192.168.1.10:8181')"
   ]
  },
  {
   "cell_type": "code",
   "execution_count": null,
   "id": "978b93a0",
   "metadata": {},
   "outputs": [],
   "source": [
    "JavascriptExecutor j = (JavascriptExecutor) driver;\n",
    "j.executeScript(\"return document.title\")"
   ]
  },
  {
   "cell_type": "code",
   "execution_count": 4,
   "id": "6ed97d98",
   "metadata": {},
   "outputs": [],
   "source": [
    "driver.find_element('xpath', '//*[@id=\"userName\"]').send_keys('admin')"
   ]
  },
  {
   "cell_type": "code",
   "execution_count": 5,
   "id": "be50e70b",
   "metadata": {},
   "outputs": [],
   "source": [
    "driver.find_element('xpath', '//*[@id=\"pcPassword\"]').send_keys('villaros@')"
   ]
  },
  {
   "cell_type": "code",
   "execution_count": 6,
   "id": "fa8d6cef",
   "metadata": {},
   "outputs": [],
   "source": [
    "driver.find_element('xpath', '//*[@id=\"loginBtn\"]').click()"
   ]
  },
  {
   "cell_type": "code",
   "execution_count": 7,
   "id": "988e2359",
   "metadata": {},
   "outputs": [
    {
     "ename": "SyntaxError",
     "evalue": "invalid syntax (1623368517.py, line 1)",
     "output_type": "error",
     "traceback": [
      "\u001b[1;36m  Cell \u001b[1;32mIn [7], line 1\u001b[1;36m\u001b[0m\n\u001b[1;33m    JavascriptExecutor js = (JavascriptExecutor) driver;\u001b[0m\n\u001b[1;37m                       ^\u001b[0m\n\u001b[1;31mSyntaxError\u001b[0m\u001b[1;31m:\u001b[0m invalid syntax\n"
     ]
    }
   ],
   "source": [
    "JavascriptExecutor js = (JavascriptExecutor) driver;\n",
    "String browserUrl = (String) js.executeScript(\"return window.top.location.href.toString()\");\n",
    "System.out.println(\"Your browser URL is \" + browserUrl);"
   ]
  },
  {
   "cell_type": "code",
   "execution_count": null,
   "id": "82639bf2",
   "metadata": {},
   "outputs": [],
   "source": [
    "driver.get('http://192.168.1.10:8181/userRpm/SysRebootRpm.htm')"
   ]
  },
  {
   "cell_type": "code",
   "execution_count": null,
   "id": "56374dd1",
   "metadata": {},
   "outputs": [],
   "source": []
  }
 ],
 "metadata": {
  "kernelspec": {
   "display_name": "Python 3 (ipykernel)",
   "language": "python",
   "name": "python3"
  },
  "language_info": {
   "codemirror_mode": {
    "name": "ipython",
    "version": 3
   },
   "file_extension": ".py",
   "mimetype": "text/x-python",
   "name": "python",
   "nbconvert_exporter": "python",
   "pygments_lexer": "ipython3",
   "version": "3.10.4"
  }
 },
 "nbformat": 4,
 "nbformat_minor": 5
}
