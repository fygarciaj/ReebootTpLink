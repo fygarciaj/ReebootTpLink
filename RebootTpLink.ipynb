{
 "cells": [
  {
   "cell_type": "code",
   "execution_count": 1,
   "id": "4e02dec4",
   "metadata": {},
   "outputs": [],
   "source": [
    "import socket\n",
    "from selenium import webdriver\n",
    "from selenium.webdriver.chrome.service import Service\n",
    "from selenium.webdriver.common.by import By\n",
    "from selenium.webdriver.common.alert import Alert"
   ]
  },
  {
   "cell_type": "code",
   "execution_count": 2,
   "id": "94caf800",
   "metadata": {},
   "outputs": [],
   "source": [
    "def is_connected():\n",
    "    try:\n",
    "        # connect to the host -- tells us if the host is actually\n",
    "        # reachable\n",
    "        socket.create_connection((\"1.1.1.1\", 53))\n",
    "        return True\n",
    "    except OSError:\n",
    "        pass\n",
    "    return False"
   ]
  },
  {
   "cell_type": "code",
   "execution_count": 3,
   "id": "fb066bb8",
   "metadata": {},
   "outputs": [
    {
     "name": "stdout",
     "output_type": "stream",
     "text": [
      "False\n"
     ]
    }
   ],
   "source": [
    "connect = is_connected()\n",
    "print(connect)"
   ]
  },
  {
   "cell_type": "code",
   "execution_count": 2,
   "id": "7f1502f2",
   "metadata": {},
   "outputs": [],
   "source": [
    "s = Service('webdriver//chromedriver.exe')\n",
    "driver = webdriver.Chrome(service=s)"
   ]
  },
  {
   "cell_type": "code",
   "execution_count": 3,
   "id": "2243fc45",
   "metadata": {},
   "outputs": [],
   "source": [
    "driver.get('http://192.168.1.10:8181')"
   ]
  },
  {
   "cell_type": "code",
   "execution_count": 4,
   "id": "f06bf0d6",
   "metadata": {},
   "outputs": [],
   "source": [
    "driver.find_element('xpath', '//*[@id=\"userName\"]').send_keys('admin')"
   ]
  },
  {
   "cell_type": "code",
   "execution_count": 5,
   "id": "ab2f472d",
   "metadata": {},
   "outputs": [],
   "source": [
    "driver.find_element('xpath', '//*[@id=\"pcPassword\"]').send_keys('villaros@')"
   ]
  },
  {
   "cell_type": "code",
   "execution_count": 6,
   "id": "e3298c91",
   "metadata": {},
   "outputs": [],
   "source": [
    "driver.find_element('xpath', '//*[@id=\"loginBtn\"]').click()"
   ]
  },
  {
   "cell_type": "code",
   "execution_count": 7,
   "id": "40e8b19e",
   "metadata": {},
   "outputs": [
    {
     "name": "stdout",
     "output_type": "stream",
     "text": [
      "TL-WR940N\n"
     ]
    }
   ],
   "source": [
    "j = driver.execute_script(\"return document.title\")\n",
    "print(j)"
   ]
  },
  {
   "cell_type": "code",
   "execution_count": 8,
   "id": "0a5c1900",
   "metadata": {},
   "outputs": [
    {
     "name": "stdout",
     "output_type": "stream",
     "text": [
      "http://192.168.1.10:8181/AVFXKLRCZYVYIWJB/userRpm/Index.htm\n",
      "['http:', '', '192.168.1.10:8181', 'AVFXKLRCZYVYIWJB', 'userRpm', 'Index.htm']\n",
      "AVFXKLRCZYVYIWJB\n"
     ]
    }
   ],
   "source": [
    "j = driver.execute_script(\"return window.top.location.href.toString()\")\n",
    "print(j)\n",
    "xsplit = j.split(\"/\")\n",
    "print(xsplit)\n",
    "xtpath = xsplit[3]\n",
    "print(xtpath)"
   ]
  },
  {
   "cell_type": "code",
   "execution_count": 9,
   "id": "202ff807",
   "metadata": {},
   "outputs": [],
   "source": [
    "driver.execute_script('document.getElementById(\"mainFrame\").src = \"http://192.168.1.10:8181/'+xtpath+'/userRpm/SysRebootRpm.htm\";')"
   ]
  },
  {
   "cell_type": "code",
   "execution_count": 10,
   "id": "627d99e3",
   "metadata": {},
   "outputs": [],
   "source": [
    "driver.switch_to.frame('mainFrame')"
   ]
  },
  {
   "cell_type": "code",
   "execution_count": 11,
   "id": "7e3a2c0f",
   "metadata": {},
   "outputs": [],
   "source": [
    "driver.find_element(By.ID, 'reboot').click()"
   ]
  },
  {
   "cell_type": "code",
   "execution_count": 12,
   "id": "4a3d5737",
   "metadata": {},
   "outputs": [],
   "source": [
    "Alert(driver).accept()"
   ]
  },
  {
   "cell_type": "code",
   "execution_count": 13,
   "id": "850ae349",
   "metadata": {},
   "outputs": [],
   "source": [
    "#driver.get('http://192.168.1.10:8181/'+xtpath+'/userRpm/SysRebootRpm.htm')"
   ]
  }
 ],
 "metadata": {
  "kernelspec": {
   "display_name": "Python 3 (ipykernel)",
   "language": "python",
   "name": "python3"
  },
  "language_info": {
   "codemirror_mode": {
    "name": "ipython",
    "version": 3
   },
   "file_extension": ".py",
   "mimetype": "text/x-python",
   "name": "python",
   "nbconvert_exporter": "python",
   "pygments_lexer": "ipython3",
   "version": "3.10.4"
  }
 },
 "nbformat": 4,
 "nbformat_minor": 5
}
